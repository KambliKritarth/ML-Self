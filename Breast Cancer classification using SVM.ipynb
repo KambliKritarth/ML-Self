{
 "cells": [
  {
   "cell_type": "code",
   "execution_count": 1,
   "id": "dab09130",
   "metadata": {},
   "outputs": [],
   "source": [
    "from sklearn import datasets\n",
    "from sklearn.model_selection import train_test_split\n",
    "from sklearn import svm\n",
    "from sklearn import metrics"
   ]
  },
  {
   "cell_type": "markdown",
   "id": "a0d6ee82",
   "metadata": {},
   "source": [
    "### Loading the data"
   ]
  },
  {
   "cell_type": "code",
   "execution_count": 2,
   "id": "ba755313",
   "metadata": {},
   "outputs": [],
   "source": [
    "cancer_data = datasets.load_breast_cancer()"
   ]
  },
  {
   "cell_type": "code",
   "execution_count": 11,
   "id": "8411aa87",
   "metadata": {},
   "outputs": [],
   "source": [
    "X_train,X_test, y_train, y_test = train_test_split(cancer_data.data, cancer_data.target,test_size = 0.4,random_state = 209)"
   ]
  },
  {
   "cell_type": "code",
   "execution_count": 12,
   "id": "3fda34e4",
   "metadata": {},
   "outputs": [
    {
     "name": "stdout",
     "output_type": "stream",
     "text": [
      "[[1.799e+01 1.038e+01 1.228e+02 ... 2.654e-01 4.601e-01 1.189e-01]\n",
      " [2.057e+01 1.777e+01 1.329e+02 ... 1.860e-01 2.750e-01 8.902e-02]\n",
      " [1.969e+01 2.125e+01 1.300e+02 ... 2.430e-01 3.613e-01 8.758e-02]\n",
      " ...\n",
      " [1.660e+01 2.808e+01 1.083e+02 ... 1.418e-01 2.218e-01 7.820e-02]\n",
      " [2.060e+01 2.933e+01 1.401e+02 ... 2.650e-01 4.087e-01 1.240e-01]\n",
      " [7.760e+00 2.454e+01 4.792e+01 ... 0.000e+00 2.871e-01 7.039e-02]]\n"
     ]
    }
   ],
   "source": [
    "print(cancer_data['data'])"
   ]
  },
  {
   "cell_type": "raw",
   "id": "191769eb",
   "metadata": {},
   "source": [
    "# generating the model"
   ]
  },
  {
   "cell_type": "raw",
   "id": "73d4363a",
   "metadata": {},
   "source": [
    "## SVC function\n",
    "class sklearn.svm.SVC(*,\n",
    "C=1.0, \n",
    "kernel='rbf', \n",
    "degree=3, \n",
    "gamma='scale', \n",
    "coef0=0.0, \n",
    "shrinking=True, \n",
    "probability=False, \n",
    "tol=0.001, \n",
    "cache_size=200, \n",
    "class_weight=None, \n",
    "verbose=False, \n",
    "max_iter=- 1, \n",
    "decision_function_shape='ovr',\n",
    "break_ties=False, \n",
    "random_state=None)"
   ]
  },
  {
   "cell_type": "code",
   "execution_count": 13,
   "id": "2782ea3a",
   "metadata": {},
   "outputs": [],
   "source": [
    "cls = svm.SVC(kernel='linear')"
   ]
  },
  {
   "cell_type": "raw",
   "id": "17bc3b5d",
   "metadata": {},
   "source": [
    "# train the model\n",
    "# fit() method is used to train the data"
   ]
  },
  {
   "cell_type": "code",
   "execution_count": 14,
   "id": "3b4c2140",
   "metadata": {},
   "outputs": [
    {
     "data": {
      "text/plain": [
       "SVC(kernel='linear')"
      ]
     },
     "execution_count": 14,
     "metadata": {},
     "output_type": "execute_result"
    }
   ],
   "source": [
    "cls.fit(X_train,y_train)"
   ]
  },
  {
   "cell_type": "raw",
   "id": "6e6d407a",
   "metadata": {},
   "source": [
    "#predict the response\n",
    "# predict() method is used to predict from testing data"
   ]
  },
  {
   "cell_type": "code",
   "execution_count": 15,
   "id": "3a3b7449",
   "metadata": {},
   "outputs": [],
   "source": [
    "pred = cls.predict(X_test)"
   ]
  },
  {
   "cell_type": "raw",
   "id": "501619dd",
   "metadata": {},
   "source": [
    "# accuracy score"
   ]
  },
  {
   "cell_type": "code",
   "execution_count": 17,
   "id": "bdf3337b",
   "metadata": {},
   "outputs": [
    {
     "name": "stdout",
     "output_type": "stream",
     "text": [
      "accuracy: 0.9254385964912281\n"
     ]
    }
   ],
   "source": [
    "print(\"accuracy:\", metrics.accuracy_score(y_test,y_pred = pred))"
   ]
  },
  {
   "cell_type": "raw",
   "id": "0e067ce5",
   "metadata": {},
   "source": [
    "# precision score"
   ]
  },
  {
   "cell_type": "code",
   "execution_count": 18,
   "id": "cfa28b66",
   "metadata": {},
   "outputs": [
    {
     "name": "stdout",
     "output_type": "stream",
     "text": [
      "precision: 0.9333333333333333\n"
     ]
    }
   ],
   "source": [
    "print(\"precision:\",metrics.precision_score(y_test,y_pred = pred))"
   ]
  },
  {
   "cell_type": "raw",
   "id": "a62bc224",
   "metadata": {},
   "source": [
    "# recall score "
   ]
  },
  {
   "cell_type": "code",
   "execution_count": 19,
   "id": "a77cc5ab",
   "metadata": {},
   "outputs": [
    {
     "name": "stdout",
     "output_type": "stream",
     "text": [
      "recall 0.9402985074626866\n"
     ]
    }
   ],
   "source": [
    "print(\"recall\", metrics.recall_score(y_test,y_pred=pred))"
   ]
  },
  {
   "cell_type": "code",
   "execution_count": 20,
   "id": "0358ee59",
   "metadata": {},
   "outputs": [
    {
     "name": "stdout",
     "output_type": "stream",
     "text": [
      "              precision    recall  f1-score   support\n",
      "\n",
      "           0       0.91      0.90      0.91        94\n",
      "           1       0.93      0.94      0.94       134\n",
      "\n",
      "    accuracy                           0.93       228\n",
      "   macro avg       0.92      0.92      0.92       228\n",
      "weighted avg       0.93      0.93      0.93       228\n",
      "\n"
     ]
    }
   ],
   "source": [
    "print(metrics.classification_report(y_test,y_pred=pred))"
   ]
  },
  {
   "cell_type": "code",
   "execution_count": null,
   "id": "602f85b7",
   "metadata": {},
   "outputs": [],
   "source": []
  }
 ],
 "metadata": {
  "kernelspec": {
   "display_name": "Python 3",
   "language": "python",
   "name": "python3"
  },
  "language_info": {
   "codemirror_mode": {
    "name": "ipython",
    "version": 3
   },
   "file_extension": ".py",
   "mimetype": "text/x-python",
   "name": "python",
   "nbconvert_exporter": "python",
   "pygments_lexer": "ipython3",
   "version": "3.8.8"
  }
 },
 "nbformat": 4,
 "nbformat_minor": 5
}
